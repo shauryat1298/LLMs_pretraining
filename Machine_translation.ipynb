{
 "cells": [
  {
   "cell_type": "code",
   "execution_count": 1,
   "metadata": {},
   "outputs": [
    {
     "name": "stderr",
     "output_type": "stream",
     "text": [
      "c:\\Users\\shaur\\anaconda3\\envs\\denis\\lib\\site-packages\\tqdm\\auto.py:21: TqdmWarning: IProgress not found. Please update jupyter and ipywidgets. See https://ipywidgets.readthedocs.io/en/stable/user_install.html\n",
      "  from .autonotebook import tqdm as notebook_tqdm\n"
     ]
    }
   ],
   "source": [
    "import os\n",
    "import numpy as np\n",
    "\n",
    "!pip install -q -U trax\n",
    "import trax"
   ]
  },
  {
   "cell_type": "code",
   "execution_count": 2,
   "metadata": {},
   "outputs": [],
   "source": [
    "model = trax.models.Transformer(\n",
    "    input_vocab_size=33300,\n",
    "    d_model=512, d_ff=2048,\n",
    "    n_heads=8, n_encoder_layers=6, n_decoder_layers=6,\n",
    "    max_len=2048, mode='predict')"
   ]
  },
  {
   "cell_type": "code",
   "execution_count": null,
   "metadata": {},
   "outputs": [],
   "source": [
    "model.init_from_file('gs://trax-ml/models/translation/ende_wmt32k.pkl.gz',\n",
    "                     weights_only=True)"
   ]
  },
  {
   "cell_type": "code",
   "execution_count": null,
   "metadata": {},
   "outputs": [],
   "source": [
    "sentence = 'I am only a machine but I have machine intelligence.'\n",
    "\n",
    "tokenized = list(trax.data.tokenize(iter([sentence]),  # Operates on streams.\n",
    "                                    vocab_dir='gs://trax-ml/vocabs/',\n",
    "                                    vocab_file='ende_32k.subword'))[0]"
   ]
  },
  {
   "cell_type": "code",
   "execution_count": null,
   "metadata": {},
   "outputs": [],
   "source": [
    "tokenized = tokenized[None, :]  # Add batch dimension.\n",
    "tokenized_translation = trax.supervised.decoding.autoregressive_sample(\n",
    "    model, tokenized, temperature=0.0)"
   ]
  },
  {
   "cell_type": "code",
   "execution_count": null,
   "metadata": {},
   "outputs": [],
   "source": [
    "tokenized_translation = tokenized_translation[0][:-1]  # Remove batch and EOS.\n",
    "translation = trax.data.detokenize(tokenized_translation,\n",
    "                                   vocab_dir='gs://trax-ml/vocabs/',\n",
    "                                   vocab_file='ende_32k.subword')\n",
    "print(\"The sentence:\",sentence)\n",
    "print(\"The translation:\",translation)"
   ]
  },
  {
   "cell_type": "code",
   "execution_count": null,
   "metadata": {},
   "outputs": [],
   "source": []
  }
 ],
 "metadata": {
  "kernelspec": {
   "display_name": "denis",
   "language": "python",
   "name": "python3"
  },
  "language_info": {
   "codemirror_mode": {
    "name": "ipython",
    "version": 3
   },
   "file_extension": ".py",
   "mimetype": "text/x-python",
   "name": "python",
   "nbconvert_exporter": "python",
   "pygments_lexer": "ipython3",
   "version": "3.9.17"
  },
  "orig_nbformat": 4
 },
 "nbformat": 4,
 "nbformat_minor": 2
}
